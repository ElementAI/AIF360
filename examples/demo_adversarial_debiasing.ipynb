{
 "cells": [
  {
   "cell_type": "markdown",
   "metadata": {},
   "source": [
    "#### This notebook demonstrates the use of adversarial debiasing algorithm to learn a fair classifier.\n",
    "Adversarial debiasing [1] is an in-processing technique that learns a classifier to maximize prediction accuracy and simultaneously reduce an adversary's ability to determine the protected attribute from the predictions. This approach leads to a fair classifier as the predictions cannot carry any group discrimination information that the adversary can exploit. We will see how to use this algorithm for learning models with and without fairness constraints and apply them on the Adult dataset."
   ]
  },
  {
   "cell_type": "code",
   "execution_count": 1,
   "metadata": {},
   "outputs": [],
   "source": [
    "%matplotlib inline\n",
    "# Load all necessary packages\n",
    "import sys\n",
    "sys.path.append(\"../\")\n",
    "from aif360.datasets import BinaryLabelDataset\n",
    "from aif360.datasets import AdultDataset, GermanDataset, CompasDataset\n",
    "from aif360.metrics import BinaryLabelDatasetMetric\n",
    "from aif360.metrics import ClassificationMetric\n",
    "from aif360.metrics.utils import compute_boolean_conditioning_vector\n",
    "\n",
    "from aif360.algorithms.preprocessing.optim_preproc_helpers.data_preproc_functions import load_preproc_data_adult, load_preproc_data_compas, load_preproc_data_german\n",
    "\n",
    "from aif360.algorithms.inprocessing.adversarial_debiasing import AdversarialDebiasing\n",
    "\n",
    "from sklearn.linear_model import LogisticRegression\n",
    "from sklearn.preprocessing import StandardScaler, MaxAbsScaler\n",
    "from sklearn.metrics import accuracy_score\n",
    "\n",
    "from IPython.display import Markdown, display\n",
    "import matplotlib.pyplot as plt\n",
    "\n",
    "import tensorflow as tf"
   ]
  },
  {
   "cell_type": "markdown",
   "metadata": {},
   "source": [
    "#### Load dataset and set options"
   ]
  },
  {
   "cell_type": "code",
   "execution_count": 38,
   "metadata": {},
   "outputs": [],
   "source": [
    "# Get the dataset and split into train and test\n",
    "dataset_orig = load_preproc_data_compas(['sex'])#load_preproc_data_compas()\n",
    "\n",
    "privileged_groups = [{'sex': 0}]\n",
    "unprivileged_groups = [{'sex': 1}]\n",
    "\n",
    "dataset_orig_train, dataset_orig_test = dataset_orig.split([0.7], shuffle=True, seed=123)"
   ]
  },
  {
   "cell_type": "code",
   "execution_count": 39,
   "metadata": {},
   "outputs": [
    {
     "data": {
      "text/markdown": [
       "#### Training Dataset shape"
      ],
      "text/plain": [
       "<IPython.core.display.Markdown object>"
      ]
     },
     "metadata": {},
     "output_type": "display_data"
    },
    {
     "name": "stdout",
     "output_type": "stream",
     "text": [
      "(3694, 10)\n"
     ]
    },
    {
     "data": {
      "text/markdown": [
       "#### Favorable and unfavorable labels"
      ],
      "text/plain": [
       "<IPython.core.display.Markdown object>"
      ]
     },
     "metadata": {},
     "output_type": "display_data"
    },
    {
     "name": "stdout",
     "output_type": "stream",
     "text": [
      "0.0 1.0\n"
     ]
    },
    {
     "data": {
      "text/markdown": [
       "#### Protected attribute names"
      ],
      "text/plain": [
       "<IPython.core.display.Markdown object>"
      ]
     },
     "metadata": {},
     "output_type": "display_data"
    },
    {
     "name": "stdout",
     "output_type": "stream",
     "text": [
      "['sex']\n"
     ]
    },
    {
     "data": {
      "text/markdown": [
       "#### Privileged and unprivileged protected attribute values"
      ],
      "text/plain": [
       "<IPython.core.display.Markdown object>"
      ]
     },
     "metadata": {},
     "output_type": "display_data"
    },
    {
     "name": "stdout",
     "output_type": "stream",
     "text": [
      "[array([1.])] [array([0.])]\n"
     ]
    },
    {
     "data": {
      "text/markdown": [
       "#### Dataset feature names"
      ],
      "text/plain": [
       "<IPython.core.display.Markdown object>"
      ]
     },
     "metadata": {},
     "output_type": "display_data"
    },
    {
     "name": "stdout",
     "output_type": "stream",
     "text": [
      "['sex', 'race', 'age_cat=25 to 45', 'age_cat=Greater than 45', 'age_cat=Less than 25', 'priors_count=0', 'priors_count=1 to 3', 'priors_count=More than 3', 'c_charge_degree=F', 'c_charge_degree=M']\n"
     ]
    }
   ],
   "source": [
    "# print out some labels, names, etc.\n",
    "display(Markdown(\"#### Training Dataset shape\"))\n",
    "print(dataset_orig_train.features.shape)\n",
    "display(Markdown(\"#### Favorable and unfavorable labels\"))\n",
    "print(dataset_orig_train.favorable_label, dataset_orig_train.unfavorable_label)\n",
    "display(Markdown(\"#### Protected attribute names\"))\n",
    "print(dataset_orig_train.protected_attribute_names)\n",
    "display(Markdown(\"#### Privileged and unprivileged protected attribute values\"))\n",
    "print(dataset_orig_train.privileged_protected_attributes, \n",
    "      dataset_orig_train.unprivileged_protected_attributes)\n",
    "display(Markdown(\"#### Dataset feature names\"))\n",
    "print(dataset_orig_train.feature_names)"
   ]
  },
  {
   "cell_type": "markdown",
   "metadata": {},
   "source": [
    "#### Metric for original training data"
   ]
  },
  {
   "cell_type": "code",
   "execution_count": 40,
   "metadata": {},
   "outputs": [
    {
     "data": {
      "text/markdown": [
       "#### Original training dataset"
      ],
      "text/plain": [
       "<IPython.core.display.Markdown object>"
      ]
     },
     "metadata": {},
     "output_type": "display_data"
    },
    {
     "name": "stdout",
     "output_type": "stream",
     "text": [
      "Train set: Difference in mean outcomes between unprivileged and privileged groups = 0.130515\n",
      "Test set: Difference in mean outcomes between unprivileged and privileged groups = 0.146097\n"
     ]
    }
   ],
   "source": [
    "# Metric for the original dataset\n",
    "metric_orig_train = BinaryLabelDatasetMetric(dataset_orig_train, \n",
    "                                             unprivileged_groups=unprivileged_groups,\n",
    "                                             privileged_groups=privileged_groups)\n",
    "display(Markdown(\"#### Original training dataset\"))\n",
    "print(\"Train set: Difference in mean outcomes between unprivileged and privileged groups = %f\" % metric_orig_train.mean_difference())\n",
    "metric_orig_test = BinaryLabelDatasetMetric(dataset_orig_test, \n",
    "                                             unprivileged_groups=unprivileged_groups,\n",
    "                                             privileged_groups=privileged_groups)\n",
    "print(\"Test set: Difference in mean outcomes between unprivileged and privileged groups = %f\" % metric_orig_test.mean_difference())"
   ]
  },
  {
   "cell_type": "code",
   "execution_count": 41,
   "metadata": {},
   "outputs": [
    {
     "data": {
      "text/markdown": [
       "#### Scaled dataset - Verify that the scaling does not affect the group label statistics"
      ],
      "text/plain": [
       "<IPython.core.display.Markdown object>"
      ]
     },
     "metadata": {},
     "output_type": "display_data"
    },
    {
     "name": "stdout",
     "output_type": "stream",
     "text": [
      "Train set: Difference in mean outcomes between unprivileged and privileged groups = 0.130515\n",
      "Test set: Difference in mean outcomes between unprivileged and privileged groups = 0.146097\n"
     ]
    }
   ],
   "source": [
    "min_max_scaler = MaxAbsScaler()\n",
    "dataset_orig_train.features = min_max_scaler.fit_transform(dataset_orig_train.features)\n",
    "dataset_orig_test.features = min_max_scaler.transform(dataset_orig_test.features)\n",
    "metric_scaled_train = BinaryLabelDatasetMetric(dataset_orig_train, \n",
    "                             unprivileged_groups=unprivileged_groups,\n",
    "                             privileged_groups=privileged_groups)\n",
    "display(Markdown(\"#### Scaled dataset - Verify that the scaling does not affect the group label statistics\"))\n",
    "print(\"Train set: Difference in mean outcomes between unprivileged and privileged groups = %f\" % metric_scaled_train.mean_difference())\n",
    "metric_scaled_test = BinaryLabelDatasetMetric(dataset_orig_test, \n",
    "                             unprivileged_groups=unprivileged_groups,\n",
    "                             privileged_groups=privileged_groups)\n",
    "print(\"Test set: Difference in mean outcomes between unprivileged and privileged groups = %f\" % metric_scaled_test.mean_difference())\n"
   ]
  },
  {
   "cell_type": "markdown",
   "metadata": {},
   "source": [
    "### Learn plan classifier without debiasing"
   ]
  },
  {
   "cell_type": "code",
   "execution_count": 42,
   "metadata": {},
   "outputs": [],
   "source": [
    "# Load post-processing algorithm that equalizes the odds\n",
    "# Learn parameters with debias set to False\n",
    "sess = tf.Session()\n",
    "plain_model = AdversarialDebiasing(privileged_groups = privileged_groups,\n",
    "                          unprivileged_groups = unprivileged_groups,\n",
    "                          scope_name='plain_classifier',\n",
    "                          debias=False,\n",
    "                          sess=sess)"
   ]
  },
  {
   "cell_type": "code",
   "execution_count": 43,
   "metadata": {
    "scrolled": true
   },
   "outputs": [
    {
     "name": "stdout",
     "output_type": "stream",
     "text": [
      "epoch 0; iter: 0; batch classifier loss: 0.661197\n",
      "epoch 1; iter: 0; batch classifier loss: 0.625821\n",
      "epoch 2; iter: 0; batch classifier loss: 0.690619\n",
      "epoch 3; iter: 0; batch classifier loss: 0.612902\n",
      "epoch 4; iter: 0; batch classifier loss: 0.592168\n",
      "epoch 5; iter: 0; batch classifier loss: 0.667649\n",
      "epoch 6; iter: 0; batch classifier loss: 0.633463\n",
      "epoch 7; iter: 0; batch classifier loss: 0.614926\n",
      "epoch 8; iter: 0; batch classifier loss: 0.601928\n",
      "epoch 9; iter: 0; batch classifier loss: 0.646070\n",
      "epoch 10; iter: 0; batch classifier loss: 0.605535\n",
      "epoch 11; iter: 0; batch classifier loss: 0.652386\n",
      "epoch 12; iter: 0; batch classifier loss: 0.645225\n",
      "epoch 13; iter: 0; batch classifier loss: 0.585483\n",
      "epoch 14; iter: 0; batch classifier loss: 0.621976\n",
      "epoch 15; iter: 0; batch classifier loss: 0.601694\n",
      "epoch 16; iter: 0; batch classifier loss: 0.600760\n",
      "epoch 17; iter: 0; batch classifier loss: 0.589756\n",
      "epoch 18; iter: 0; batch classifier loss: 0.619736\n",
      "epoch 19; iter: 0; batch classifier loss: 0.602791\n",
      "epoch 20; iter: 0; batch classifier loss: 0.613037\n",
      "epoch 21; iter: 0; batch classifier loss: 0.679885\n",
      "epoch 22; iter: 0; batch classifier loss: 0.590022\n",
      "epoch 23; iter: 0; batch classifier loss: 0.668457\n",
      "epoch 24; iter: 0; batch classifier loss: 0.639286\n",
      "epoch 25; iter: 0; batch classifier loss: 0.610543\n",
      "epoch 26; iter: 0; batch classifier loss: 0.668812\n",
      "epoch 27; iter: 0; batch classifier loss: 0.617114\n",
      "epoch 28; iter: 0; batch classifier loss: 0.606173\n",
      "epoch 29; iter: 0; batch classifier loss: 0.578221\n",
      "epoch 30; iter: 0; batch classifier loss: 0.608209\n",
      "epoch 31; iter: 0; batch classifier loss: 0.605126\n",
      "epoch 32; iter: 0; batch classifier loss: 0.606054\n",
      "epoch 33; iter: 0; batch classifier loss: 0.601801\n",
      "epoch 34; iter: 0; batch classifier loss: 0.618393\n",
      "epoch 35; iter: 0; batch classifier loss: 0.621231\n",
      "epoch 36; iter: 0; batch classifier loss: 0.641505\n",
      "epoch 37; iter: 0; batch classifier loss: 0.630782\n",
      "epoch 38; iter: 0; batch classifier loss: 0.612365\n",
      "epoch 39; iter: 0; batch classifier loss: 0.616534\n",
      "epoch 40; iter: 0; batch classifier loss: 0.642082\n",
      "epoch 41; iter: 0; batch classifier loss: 0.657599\n",
      "epoch 42; iter: 0; batch classifier loss: 0.608159\n",
      "epoch 43; iter: 0; batch classifier loss: 0.638139\n",
      "epoch 44; iter: 0; batch classifier loss: 0.581532\n",
      "epoch 45; iter: 0; batch classifier loss: 0.617318\n",
      "epoch 46; iter: 0; batch classifier loss: 0.634967\n",
      "epoch 47; iter: 0; batch classifier loss: 0.583751\n",
      "epoch 48; iter: 0; batch classifier loss: 0.644359\n",
      "epoch 49; iter: 0; batch classifier loss: 0.686054\n"
     ]
    },
    {
     "data": {
      "text/plain": [
       "<aif360.algorithms.inprocessing.adversarial_debiasing.AdversarialDebiasing at 0x7f4fa87b27b8>"
      ]
     },
     "execution_count": 43,
     "metadata": {},
     "output_type": "execute_result"
    }
   ],
   "source": [
    "plain_model.fit(dataset_orig_train)"
   ]
  },
  {
   "cell_type": "code",
   "execution_count": 44,
   "metadata": {},
   "outputs": [],
   "source": [
    "# Apply the plain model to test data\n",
    "dataset_nodebiasing_train = plain_model.predict(dataset_orig_train)\n",
    "dataset_nodebiasing_test = plain_model.predict(dataset_orig_test)"
   ]
  },
  {
   "cell_type": "code",
   "execution_count": 45,
   "metadata": {},
   "outputs": [
    {
     "data": {
      "text/markdown": [
       "#### Plain model - without debiasing - dataset metrics"
      ],
      "text/plain": [
       "<IPython.core.display.Markdown object>"
      ]
     },
     "metadata": {},
     "output_type": "display_data"
    },
    {
     "name": "stdout",
     "output_type": "stream",
     "text": [
      "Train set: Difference in mean outcomes between unprivileged and privileged groups = 0.232597\n",
      "Test set: Difference in mean outcomes between unprivileged and privileged groups = 0.248053\n"
     ]
    },
    {
     "data": {
      "text/markdown": [
       "#### Plain model - without debiasing - classification metrics"
      ],
      "text/plain": [
       "<IPython.core.display.Markdown object>"
      ]
     },
     "metadata": {},
     "output_type": "display_data"
    },
    {
     "name": "stdout",
     "output_type": "stream",
     "text": [
      "Test set: Classification accuracy = 0.660354\n",
      "Test set: Balanced classification accuracy = 0.654470\n",
      "Test set: Disparate impact = 1.448875\n",
      "Test set: Equal opportunity difference = 0.140621\n",
      "Test set: Average odds difference = 0.227416\n",
      "Test set: Theil_index = 0.199359\n"
     ]
    }
   ],
   "source": [
    "# Metrics for the dataset from plain model (without debiasing)\n",
    "display(Markdown(\"#### Plain model - without debiasing - dataset metrics\"))\n",
    "metric_dataset_nodebiasing_train = BinaryLabelDatasetMetric(dataset_nodebiasing_train, \n",
    "                                             unprivileged_groups=unprivileged_groups,\n",
    "                                             privileged_groups=privileged_groups)\n",
    "\n",
    "print(\"Train set: Difference in mean outcomes between unprivileged and privileged groups = %f\" % metric_dataset_nodebiasing_train.mean_difference())\n",
    "\n",
    "metric_dataset_nodebiasing_test = BinaryLabelDatasetMetric(dataset_nodebiasing_test, \n",
    "                                             unprivileged_groups=unprivileged_groups,\n",
    "                                             privileged_groups=privileged_groups)\n",
    "\n",
    "print(\"Test set: Difference in mean outcomes between unprivileged and privileged groups = %f\" % metric_dataset_nodebiasing_test.mean_difference())\n",
    "\n",
    "display(Markdown(\"#### Plain model - without debiasing - classification metrics\"))\n",
    "classified_metric_nodebiasing_test = ClassificationMetric(dataset_orig_test, \n",
    "                                                 dataset_nodebiasing_test,\n",
    "                                                 unprivileged_groups=unprivileged_groups,\n",
    "                                                 privileged_groups=privileged_groups)\n",
    "print(\"Test set: Classification accuracy = %f\" % classified_metric_nodebiasing_test.accuracy())\n",
    "TPR = classified_metric_nodebiasing_test.true_positive_rate()\n",
    "TNR = classified_metric_nodebiasing_test.true_negative_rate()\n",
    "bal_acc_nodebiasing_test = 0.5*(TPR+TNR)\n",
    "print(\"Test set: Balanced classification accuracy = %f\" % bal_acc_nodebiasing_test)\n",
    "print(\"Test set: Disparate impact = %f\" % classified_metric_nodebiasing_test.disparate_impact())\n",
    "print(\"Test set: Equal opportunity difference = %f\" % classified_metric_nodebiasing_test.equal_opportunity_difference())\n",
    "print(\"Test set: Average odds difference = %f\" % classified_metric_nodebiasing_test.average_odds_difference())\n",
    "print(\"Test set: Theil_index = %f\" % classified_metric_nodebiasing_test.theil_index())"
   ]
  },
  {
   "cell_type": "markdown",
   "metadata": {},
   "source": [
    "### Apply in-processing algorithm based on adversarial learning"
   ]
  },
  {
   "cell_type": "code",
   "execution_count": 46,
   "metadata": {},
   "outputs": [],
   "source": [
    "sess.close()\n",
    "tf.reset_default_graph()\n",
    "sess = tf.Session()"
   ]
  },
  {
   "cell_type": "code",
   "execution_count": 47,
   "metadata": {},
   "outputs": [],
   "source": [
    "# Learn parameters with debias set to True\n",
    "debiased_model = AdversarialDebiasing(privileged_groups = privileged_groups,\n",
    "                          unprivileged_groups = unprivileged_groups,\n",
    "                          scope_name='debiased_classifier',\n",
    "                          debias=True,\n",
    "                          sess=sess)"
   ]
  },
  {
   "cell_type": "code",
   "execution_count": 48,
   "metadata": {
    "scrolled": true
   },
   "outputs": [
    {
     "name": "stdout",
     "output_type": "stream",
     "text": [
      "epoch 0; iter: 0; batch classifier loss: 0.690961; batch adversarial loss: 0.991310\n",
      "epoch 1; iter: 0; batch classifier loss: 0.680907; batch adversarial loss: 0.942520\n",
      "epoch 2; iter: 0; batch classifier loss: 0.701879; batch adversarial loss: 1.042459\n",
      "epoch 3; iter: 0; batch classifier loss: 0.691342; batch adversarial loss: 0.999238\n",
      "epoch 4; iter: 0; batch classifier loss: 0.716877; batch adversarial loss: 0.963305\n",
      "epoch 5; iter: 0; batch classifier loss: 0.737005; batch adversarial loss: 0.923814\n",
      "epoch 6; iter: 0; batch classifier loss: 0.607221; batch adversarial loss: 0.912528\n",
      "epoch 7; iter: 0; batch classifier loss: 0.716322; batch adversarial loss: 0.821795\n",
      "epoch 8; iter: 0; batch classifier loss: 0.684904; batch adversarial loss: 0.867650\n",
      "epoch 9; iter: 0; batch classifier loss: 0.669102; batch adversarial loss: 0.813058\n",
      "epoch 10; iter: 0; batch classifier loss: 0.654504; batch adversarial loss: 0.770278\n",
      "epoch 11; iter: 0; batch classifier loss: 0.662282; batch adversarial loss: 0.734082\n",
      "epoch 12; iter: 0; batch classifier loss: 0.672926; batch adversarial loss: 0.743636\n",
      "epoch 13; iter: 0; batch classifier loss: 0.671580; batch adversarial loss: 0.725347\n",
      "epoch 14; iter: 0; batch classifier loss: 0.672434; batch adversarial loss: 0.712870\n",
      "epoch 15; iter: 0; batch classifier loss: 0.626620; batch adversarial loss: 0.680385\n",
      "epoch 16; iter: 0; batch classifier loss: 0.675661; batch adversarial loss: 0.672620\n",
      "epoch 17; iter: 0; batch classifier loss: 0.602569; batch adversarial loss: 0.655719\n",
      "epoch 18; iter: 0; batch classifier loss: 0.566551; batch adversarial loss: 0.622299\n",
      "epoch 19; iter: 0; batch classifier loss: 0.601884; batch adversarial loss: 0.667100\n",
      "epoch 20; iter: 0; batch classifier loss: 0.565282; batch adversarial loss: 0.610756\n",
      "epoch 21; iter: 0; batch classifier loss: 0.622211; batch adversarial loss: 0.588152\n",
      "epoch 22; iter: 0; batch classifier loss: 0.638368; batch adversarial loss: 0.587292\n",
      "epoch 23; iter: 0; batch classifier loss: 0.653424; batch adversarial loss: 0.595599\n",
      "epoch 24; iter: 0; batch classifier loss: 0.643493; batch adversarial loss: 0.604765\n",
      "epoch 25; iter: 0; batch classifier loss: 0.586108; batch adversarial loss: 0.588369\n",
      "epoch 26; iter: 0; batch classifier loss: 0.605493; batch adversarial loss: 0.590592\n",
      "epoch 27; iter: 0; batch classifier loss: 0.601913; batch adversarial loss: 0.565104\n",
      "epoch 28; iter: 0; batch classifier loss: 0.575421; batch adversarial loss: 0.565946\n",
      "epoch 29; iter: 0; batch classifier loss: 0.621357; batch adversarial loss: 0.537788\n",
      "epoch 30; iter: 0; batch classifier loss: 0.634718; batch adversarial loss: 0.551030\n",
      "epoch 31; iter: 0; batch classifier loss: 0.596226; batch adversarial loss: 0.535696\n",
      "epoch 32; iter: 0; batch classifier loss: 0.638905; batch adversarial loss: 0.575312\n",
      "epoch 33; iter: 0; batch classifier loss: 0.625705; batch adversarial loss: 0.496189\n",
      "epoch 34; iter: 0; batch classifier loss: 0.643825; batch adversarial loss: 0.548595\n",
      "epoch 35; iter: 0; batch classifier loss: 0.665003; batch adversarial loss: 0.527303\n",
      "epoch 36; iter: 0; batch classifier loss: 0.578286; batch adversarial loss: 0.541907\n",
      "epoch 37; iter: 0; batch classifier loss: 0.635829; batch adversarial loss: 0.532707\n",
      "epoch 38; iter: 0; batch classifier loss: 0.646316; batch adversarial loss: 0.539344\n",
      "epoch 39; iter: 0; batch classifier loss: 0.620108; batch adversarial loss: 0.537638\n",
      "epoch 40; iter: 0; batch classifier loss: 0.612180; batch adversarial loss: 0.505985\n",
      "epoch 41; iter: 0; batch classifier loss: 0.593536; batch adversarial loss: 0.523348\n",
      "epoch 42; iter: 0; batch classifier loss: 0.599059; batch adversarial loss: 0.531877\n",
      "epoch 43; iter: 0; batch classifier loss: 0.642110; batch adversarial loss: 0.520366\n",
      "epoch 44; iter: 0; batch classifier loss: 0.605858; batch adversarial loss: 0.538151\n",
      "epoch 45; iter: 0; batch classifier loss: 0.562575; batch adversarial loss: 0.485624\n",
      "epoch 46; iter: 0; batch classifier loss: 0.605124; batch adversarial loss: 0.535864\n",
      "epoch 47; iter: 0; batch classifier loss: 0.604538; batch adversarial loss: 0.548285\n",
      "epoch 48; iter: 0; batch classifier loss: 0.602506; batch adversarial loss: 0.550779\n",
      "epoch 49; iter: 0; batch classifier loss: 0.613805; batch adversarial loss: 0.545100\n"
     ]
    },
    {
     "data": {
      "text/plain": [
       "<aif360.algorithms.inprocessing.adversarial_debiasing.AdversarialDebiasing at 0x7f4fd4137080>"
      ]
     },
     "execution_count": 48,
     "metadata": {},
     "output_type": "execute_result"
    }
   ],
   "source": [
    "debiased_model.fit(dataset_orig_train)"
   ]
  },
  {
   "cell_type": "code",
   "execution_count": 49,
   "metadata": {},
   "outputs": [],
   "source": [
    "# Apply the plain model to test data\n",
    "dataset_debiasing_train = debiased_model.predict(dataset_orig_train)\n",
    "dataset_debiasing_test = debiased_model.predict(dataset_orig_test)"
   ]
  },
  {
   "cell_type": "code",
   "execution_count": 50,
   "metadata": {},
   "outputs": [
    {
     "data": {
      "text/markdown": [
       "#### Plain model - without debiasing - dataset metrics"
      ],
      "text/plain": [
       "<IPython.core.display.Markdown object>"
      ]
     },
     "metadata": {},
     "output_type": "display_data"
    },
    {
     "name": "stdout",
     "output_type": "stream",
     "text": [
      "Train set: Difference in mean outcomes between unprivileged and privileged groups = 0.232597\n",
      "Test set: Difference in mean outcomes between unprivileged and privileged groups = 0.248053\n"
     ]
    },
    {
     "data": {
      "text/markdown": [
       "#### Model - with debiasing - dataset metrics"
      ],
      "text/plain": [
       "<IPython.core.display.Markdown object>"
      ]
     },
     "metadata": {},
     "output_type": "display_data"
    },
    {
     "name": "stdout",
     "output_type": "stream",
     "text": [
      "Train set: Difference in mean outcomes between unprivileged and privileged groups = 0.204330\n",
      "Test set: Difference in mean outcomes between unprivileged and privileged groups = 0.216224\n"
     ]
    },
    {
     "data": {
      "text/markdown": [
       "#### Plain model - without debiasing - classification metrics"
      ],
      "text/plain": [
       "<IPython.core.display.Markdown object>"
      ]
     },
     "metadata": {},
     "output_type": "display_data"
    },
    {
     "name": "stdout",
     "output_type": "stream",
     "text": [
      "Test set: Classification accuracy = 0.660354\n",
      "Test set: Balanced classification accuracy = 0.654470\n",
      "Test set: Disparate impact = 1.448875\n",
      "Test set: Equal opportunity difference = 0.140621\n",
      "Test set: Average odds difference = 0.227416\n",
      "Test set: Theil_index = 0.199359\n"
     ]
    },
    {
     "data": {
      "text/markdown": [
       "#### Model - with debiasing - classification metrics"
      ],
      "text/plain": [
       "<IPython.core.display.Markdown object>"
      ]
     },
     "metadata": {},
     "output_type": "display_data"
    },
    {
     "name": "stdout",
     "output_type": "stream",
     "text": [
      "Test set: Classification accuracy = 0.662879\n",
      "Test set: Balanced classification accuracy = 0.656840\n",
      "Test set: Disparate impact = 1.385299\n",
      "Test set: Equal opportunity difference = 0.094577\n",
      "Test set: Average odds difference = 0.198844\n",
      "Test set: Theil_index = 0.196371\n"
     ]
    }
   ],
   "source": [
    "# Metrics for the dataset from plain model (without debiasing)\n",
    "display(Markdown(\"#### Plain model - without debiasing - dataset metrics\"))\n",
    "print(\"Train set: Difference in mean outcomes between unprivileged and privileged groups = %f\" % metric_dataset_nodebiasing_train.mean_difference())\n",
    "print(\"Test set: Difference in mean outcomes between unprivileged and privileged groups = %f\" % metric_dataset_nodebiasing_test.mean_difference())\n",
    "\n",
    "# Metrics for the dataset from model with debiasing\n",
    "display(Markdown(\"#### Model - with debiasing - dataset metrics\"))\n",
    "metric_dataset_debiasing_train = BinaryLabelDatasetMetric(dataset_debiasing_train, \n",
    "                                             unprivileged_groups=unprivileged_groups,\n",
    "                                             privileged_groups=privileged_groups)\n",
    "\n",
    "print(\"Train set: Difference in mean outcomes between unprivileged and privileged groups = %f\" % metric_dataset_debiasing_train.mean_difference())\n",
    "\n",
    "metric_dataset_debiasing_test = BinaryLabelDatasetMetric(dataset_debiasing_test, \n",
    "                                             unprivileged_groups=unprivileged_groups,\n",
    "                                             privileged_groups=privileged_groups)\n",
    "\n",
    "print(\"Test set: Difference in mean outcomes between unprivileged and privileged groups = %f\" % metric_dataset_debiasing_test.mean_difference())\n",
    "\n",
    "\n",
    "\n",
    "display(Markdown(\"#### Plain model - without debiasing - classification metrics\"))\n",
    "print(\"Test set: Classification accuracy = %f\" % classified_metric_nodebiasing_test.accuracy())\n",
    "TPR = classified_metric_nodebiasing_test.true_positive_rate()\n",
    "TNR = classified_metric_nodebiasing_test.true_negative_rate()\n",
    "bal_acc_nodebiasing_test = 0.5*(TPR+TNR)\n",
    "print(\"Test set: Balanced classification accuracy = %f\" % bal_acc_nodebiasing_test)\n",
    "print(\"Test set: Disparate impact = %f\" % classified_metric_nodebiasing_test.disparate_impact())\n",
    "print(\"Test set: Equal opportunity difference = %f\" % classified_metric_nodebiasing_test.equal_opportunity_difference())\n",
    "print(\"Test set: Average odds difference = %f\" % classified_metric_nodebiasing_test.average_odds_difference())\n",
    "print(\"Test set: Theil_index = %f\" % classified_metric_nodebiasing_test.theil_index())\n",
    "\n",
    "\n",
    "\n",
    "display(Markdown(\"#### Model - with debiasing - classification metrics\"))\n",
    "classified_metric_debiasing_test = ClassificationMetric(dataset_orig_test, \n",
    "                                                 dataset_debiasing_test,\n",
    "                                                 unprivileged_groups=unprivileged_groups,\n",
    "                                                 privileged_groups=privileged_groups)\n",
    "print(\"Test set: Classification accuracy = %f\" % classified_metric_debiasing_test.accuracy())\n",
    "TPR = classified_metric_debiasing_test.true_positive_rate()\n",
    "TNR = classified_metric_debiasing_test.true_negative_rate()\n",
    "bal_acc_debiasing_test = 0.5*(TPR+TNR)\n",
    "print(\"Test set: Balanced classification accuracy = %f\" % bal_acc_debiasing_test)\n",
    "print(\"Test set: Disparate impact = %f\" % classified_metric_debiasing_test.disparate_impact())\n",
    "print(\"Test set: Equal opportunity difference = %f\" % classified_metric_debiasing_test.equal_opportunity_difference())\n",
    "print(\"Test set: Average odds difference = %f\" % classified_metric_debiasing_test.average_odds_difference())\n",
    "print(\"Test set: Theil_index = %f\" % classified_metric_debiasing_test.theil_index())"
   ]
  },
  {
   "cell_type": "markdown",
   "metadata": {},
   "source": [
    "\n",
    "    References:\n",
    "    [1] B. H. Zhang, B. Lemoine, and M. Mitchell, \"Mitigating UnwantedBiases with Adversarial Learning,\" \n",
    "    AAAI/ACM Conference on Artificial Intelligence, Ethics, and Society, 2018."
   ]
  },
  {
   "cell_type": "code",
   "execution_count": null,
   "metadata": {},
   "outputs": [],
   "source": []
  }
 ],
 "metadata": {
  "kernelspec": {
   "display_name": "fairness",
   "language": "python",
   "name": "fairness"
  },
  "language_info": {
   "codemirror_mode": {
    "name": "ipython",
    "version": 3
   },
   "file_extension": ".py",
   "mimetype": "text/x-python",
   "name": "python",
   "nbconvert_exporter": "python",
   "pygments_lexer": "ipython3",
   "version": "3.6.10"
  }
 },
 "nbformat": 4,
 "nbformat_minor": 2
}
